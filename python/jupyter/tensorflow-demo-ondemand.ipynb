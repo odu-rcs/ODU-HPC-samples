{
 "cells": [
  {
   "cell_type": "markdown",
   "metadata": {},
   "source": [
    "# Hands-on Demo on Wahab Open OnDemand / Jupyter Notebook\n",
    "\n",
    "Date: 2020-08-04\n",
    "\n",
    "Useful documentations:\n",
    "\n",
    "* Python container, how to install your own package: https://wiki.hpc.odu.edu/Software/Python\n",
    "* TensorFlow container, https://wiki.hpc.odu.edu/Software/Tensorflow\n",
    "* OnDemand interface: https://wiki.hpc.odu.edu/open-ondemand\n",
    "* Launching & using JupyterLab from OnDemand (still work in progress): https://wiki.hpc.odu.edu/ood-jupyter\n",
    "\n",
    "For help, please mail itshelp@odu.edu, mark it for attention of Research Computing."
   ]
  },
  {
   "cell_type": "markdown",
   "metadata": {},
   "source": [
    "## About this notebook\n",
    "\n",
    "This dummy notebook was to be launched with one of the TensorFlow containers on Wahab's OnDemand interface: https://ondemand.wahab.hpc.odu.edu/ . Click \"**Interactive Apps**\" on the top menu bar, then choose \"**Jupyter**\".\n",
    "If you do not have any specific version in mine, choose Python Suite named \"**tensorflow 2.0 + pytorch 1.3 CPU**\""
   ]
  },
  {
   "cell_type": "markdown",
   "metadata": {},
   "source": [
    "## Hands-on Demo"
   ]
  },
  {
   "cell_type": "code",
   "execution_count": 1,
   "metadata": {},
   "outputs": [],
   "source": [
    "import tensorflow"
   ]
  },
  {
   "cell_type": "code",
   "execution_count": 2,
   "metadata": {},
   "outputs": [],
   "source": [
    "import tensorflow.keras as keras"
   ]
  },
  {
   "cell_type": "code",
   "execution_count": 3,
   "metadata": {},
   "outputs": [],
   "source": [
    "x = keras.layers.Dense(10)"
   ]
  },
  {
   "cell_type": "code",
   "execution_count": 4,
   "metadata": {},
   "outputs": [
    {
     "data": {
      "text/plain": [
       "<tensorflow.python.keras.layers.core.Dense at 0x7f3fb48cdc10>"
      ]
     },
     "execution_count": 4,
     "metadata": {},
     "output_type": "execute_result"
    }
   ],
   "source": [
    "x"
   ]
  },
  {
   "cell_type": "code",
   "execution_count": 5,
   "metadata": {},
   "outputs": [],
   "source": [
    "import pandas"
   ]
  },
  {
   "cell_type": "code",
   "execution_count": 6,
   "metadata": {},
   "outputs": [],
   "source": [
    "# Choose your own data file, in CSV format.\n",
    "# Pandas can also read Microsoft Excel (XLSX) format using `pandas.read_excel`\n",
    "df = pandas.read_csv(\"sherlock_apps_yhe_test.csv\")"
   ]
  },
  {
   "cell_type": "code",
   "execution_count": 7,
   "metadata": {},
   "outputs": [
    {
     "data": {
      "text/html": [
       "<div>\n",
       "<style scoped>\n",
       "    .dataframe tbody tr th:only-of-type {\n",
       "        vertical-align: middle;\n",
       "    }\n",
       "\n",
       "    .dataframe tbody tr th {\n",
       "        vertical-align: top;\n",
       "    }\n",
       "\n",
       "    .dataframe thead th {\n",
       "        text-align: right;\n",
       "    }\n",
       "</style>\n",
       "<table border=\"1\" class=\"dataframe\">\n",
       "  <thead>\n",
       "    <tr style=\"text-align: right;\">\n",
       "      <th></th>\n",
       "      <th>Unnamed: 0</th>\n",
       "      <th>CPU_USAGE</th>\n",
       "      <th>UidRxBytes</th>\n",
       "      <th>UidRxPackets</th>\n",
       "      <th>UidTxBytes</th>\n",
       "      <th>UidTxPackets</th>\n",
       "      <th>cutime</th>\n",
       "      <th>guest_time</th>\n",
       "      <th>importance</th>\n",
       "      <th>lru</th>\n",
       "      <th>num_threads</th>\n",
       "      <th>otherPrivateDirty</th>\n",
       "      <th>priority</th>\n",
       "      <th>rss</th>\n",
       "      <th>stime</th>\n",
       "      <th>utime</th>\n",
       "      <th>vsize</th>\n",
       "      <th>cminflt</th>\n",
       "    </tr>\n",
       "  </thead>\n",
       "  <tbody>\n",
       "    <tr>\n",
       "      <th>count</th>\n",
       "      <td>273129.000000</td>\n",
       "      <td>273077.000000</td>\n",
       "      <td>2.731290e+05</td>\n",
       "      <td>273129.000000</td>\n",
       "      <td>2.731290e+05</td>\n",
       "      <td>273129.000000</td>\n",
       "      <td>273077.000000</td>\n",
       "      <td>273077.0</td>\n",
       "      <td>273129.000000</td>\n",
       "      <td>273129.000000</td>\n",
       "      <td>273077.000000</td>\n",
       "      <td>273129.000000</td>\n",
       "      <td>273077.000000</td>\n",
       "      <td>273077.000000</td>\n",
       "      <td>273077.000000</td>\n",
       "      <td>273077.000000</td>\n",
       "      <td>2.730770e+05</td>\n",
       "      <td>0.0</td>\n",
       "    </tr>\n",
       "    <tr>\n",
       "      <th>mean</th>\n",
       "      <td>528153.204665</td>\n",
       "      <td>0.661832</td>\n",
       "      <td>3.922973e+02</td>\n",
       "      <td>0.420464</td>\n",
       "      <td>2.454729e+02</td>\n",
       "      <td>0.387883</td>\n",
       "      <td>0.327984</td>\n",
       "      <td>0.0</td>\n",
       "      <td>313.992070</td>\n",
       "      <td>4.712480</td>\n",
       "      <td>39.280613</td>\n",
       "      <td>12112.315031</td>\n",
       "      <td>19.750931</td>\n",
       "      <td>8500.590423</td>\n",
       "      <td>1378.527097</td>\n",
       "      <td>2509.426960</td>\n",
       "      <td>2.049264e+09</td>\n",
       "      <td>NaN</td>\n",
       "    </tr>\n",
       "    <tr>\n",
       "      <th>std</th>\n",
       "      <td>287688.920866</td>\n",
       "      <td>3.207833</td>\n",
       "      <td>3.693198e+04</td>\n",
       "      <td>27.906066</td>\n",
       "      <td>2.977305e+04</td>\n",
       "      <td>24.209199</td>\n",
       "      <td>1.768488</td>\n",
       "      <td>0.0</td>\n",
       "      <td>88.911914</td>\n",
       "      <td>6.348188</td>\n",
       "      <td>26.824079</td>\n",
       "      <td>20267.024773</td>\n",
       "      <td>1.170649</td>\n",
       "      <td>4942.350432</td>\n",
       "      <td>3568.419746</td>\n",
       "      <td>5325.113286</td>\n",
       "      <td>1.179834e+08</td>\n",
       "      <td>NaN</td>\n",
       "    </tr>\n",
       "    <tr>\n",
       "      <th>min</th>\n",
       "      <td>0.000000</td>\n",
       "      <td>0.000000</td>\n",
       "      <td>-2.800000e+02</td>\n",
       "      <td>-11.000000</td>\n",
       "      <td>-6.000000e+01</td>\n",
       "      <td>-1.000000</td>\n",
       "      <td>0.000000</td>\n",
       "      <td>0.0</td>\n",
       "      <td>100.000000</td>\n",
       "      <td>0.000000</td>\n",
       "      <td>2.000000</td>\n",
       "      <td>0.000000</td>\n",
       "      <td>9.000000</td>\n",
       "      <td>0.000000</td>\n",
       "      <td>3.000000</td>\n",
       "      <td>2.000000</td>\n",
       "      <td>0.000000e+00</td>\n",
       "      <td>NaN</td>\n",
       "    </tr>\n",
       "    <tr>\n",
       "      <th>25%</th>\n",
       "      <td>280651.000000</td>\n",
       "      <td>0.050000</td>\n",
       "      <td>0.000000e+00</td>\n",
       "      <td>0.000000</td>\n",
       "      <td>0.000000e+00</td>\n",
       "      <td>0.000000</td>\n",
       "      <td>0.000000</td>\n",
       "      <td>0.0</td>\n",
       "      <td>300.000000</td>\n",
       "      <td>0.000000</td>\n",
       "      <td>17.000000</td>\n",
       "      <td>1480.000000</td>\n",
       "      <td>20.000000</td>\n",
       "      <td>4894.000000</td>\n",
       "      <td>91.000000</td>\n",
       "      <td>102.000000</td>\n",
       "      <td>1.958326e+09</td>\n",
       "      <td>NaN</td>\n",
       "    </tr>\n",
       "    <tr>\n",
       "      <th>50%</th>\n",
       "      <td>551938.000000</td>\n",
       "      <td>0.130000</td>\n",
       "      <td>0.000000e+00</td>\n",
       "      <td>0.000000</td>\n",
       "      <td>0.000000e+00</td>\n",
       "      <td>0.000000</td>\n",
       "      <td>0.000000</td>\n",
       "      <td>0.0</td>\n",
       "      <td>300.000000</td>\n",
       "      <td>0.000000</td>\n",
       "      <td>30.000000</td>\n",
       "      <td>4308.000000</td>\n",
       "      <td>20.000000</td>\n",
       "      <td>6959.000000</td>\n",
       "      <td>345.000000</td>\n",
       "      <td>565.000000</td>\n",
       "      <td>2.026893e+09</td>\n",
       "      <td>NaN</td>\n",
       "    </tr>\n",
       "    <tr>\n",
       "      <th>75%</th>\n",
       "      <td>783978.000000</td>\n",
       "      <td>0.370000</td>\n",
       "      <td>0.000000e+00</td>\n",
       "      <td>0.000000</td>\n",
       "      <td>0.000000e+00</td>\n",
       "      <td>0.000000</td>\n",
       "      <td>0.000000</td>\n",
       "      <td>0.0</td>\n",
       "      <td>400.000000</td>\n",
       "      <td>11.000000</td>\n",
       "      <td>55.000000</td>\n",
       "      <td>13548.000000</td>\n",
       "      <td>20.000000</td>\n",
       "      <td>11206.000000</td>\n",
       "      <td>1474.000000</td>\n",
       "      <td>2636.000000</td>\n",
       "      <td>2.125877e+09</td>\n",
       "      <td>NaN</td>\n",
       "    </tr>\n",
       "    <tr>\n",
       "      <th>max</th>\n",
       "      <td>999994.000000</td>\n",
       "      <td>110.890000</td>\n",
       "      <td>8.872786e+06</td>\n",
       "      <td>6165.000000</td>\n",
       "      <td>9.830372e+06</td>\n",
       "      <td>6748.000000</td>\n",
       "      <td>11.000000</td>\n",
       "      <td>0.0</td>\n",
       "      <td>400.000000</td>\n",
       "      <td>16.000000</td>\n",
       "      <td>141.000000</td>\n",
       "      <td>192856.000000</td>\n",
       "      <td>20.000000</td>\n",
       "      <td>54668.000000</td>\n",
       "      <td>46629.000000</td>\n",
       "      <td>42845.000000</td>\n",
       "      <td>2.456613e+09</td>\n",
       "      <td>NaN</td>\n",
       "    </tr>\n",
       "  </tbody>\n",
       "</table>\n",
       "</div>"
      ],
      "text/plain": [
       "          Unnamed: 0      CPU_USAGE    UidRxBytes   UidRxPackets  \\\n",
       "count  273129.000000  273077.000000  2.731290e+05  273129.000000   \n",
       "mean   528153.204665       0.661832  3.922973e+02       0.420464   \n",
       "std    287688.920866       3.207833  3.693198e+04      27.906066   \n",
       "min         0.000000       0.000000 -2.800000e+02     -11.000000   \n",
       "25%    280651.000000       0.050000  0.000000e+00       0.000000   \n",
       "50%    551938.000000       0.130000  0.000000e+00       0.000000   \n",
       "75%    783978.000000       0.370000  0.000000e+00       0.000000   \n",
       "max    999994.000000     110.890000  8.872786e+06    6165.000000   \n",
       "\n",
       "         UidTxBytes   UidTxPackets         cutime  guest_time     importance  \\\n",
       "count  2.731290e+05  273129.000000  273077.000000    273077.0  273129.000000   \n",
       "mean   2.454729e+02       0.387883       0.327984         0.0     313.992070   \n",
       "std    2.977305e+04      24.209199       1.768488         0.0      88.911914   \n",
       "min   -6.000000e+01      -1.000000       0.000000         0.0     100.000000   \n",
       "25%    0.000000e+00       0.000000       0.000000         0.0     300.000000   \n",
       "50%    0.000000e+00       0.000000       0.000000         0.0     300.000000   \n",
       "75%    0.000000e+00       0.000000       0.000000         0.0     400.000000   \n",
       "max    9.830372e+06    6748.000000      11.000000         0.0     400.000000   \n",
       "\n",
       "                 lru    num_threads  otherPrivateDirty       priority  \\\n",
       "count  273129.000000  273077.000000      273129.000000  273077.000000   \n",
       "mean        4.712480      39.280613       12112.315031      19.750931   \n",
       "std         6.348188      26.824079       20267.024773       1.170649   \n",
       "min         0.000000       2.000000           0.000000       9.000000   \n",
       "25%         0.000000      17.000000        1480.000000      20.000000   \n",
       "50%         0.000000      30.000000        4308.000000      20.000000   \n",
       "75%        11.000000      55.000000       13548.000000      20.000000   \n",
       "max        16.000000     141.000000      192856.000000      20.000000   \n",
       "\n",
       "                 rss          stime          utime         vsize  cminflt  \n",
       "count  273077.000000  273077.000000  273077.000000  2.730770e+05      0.0  \n",
       "mean     8500.590423    1378.527097    2509.426960  2.049264e+09      NaN  \n",
       "std      4942.350432    3568.419746    5325.113286  1.179834e+08      NaN  \n",
       "min         0.000000       3.000000       2.000000  0.000000e+00      NaN  \n",
       "25%      4894.000000      91.000000     102.000000  1.958326e+09      NaN  \n",
       "50%      6959.000000     345.000000     565.000000  2.026893e+09      NaN  \n",
       "75%     11206.000000    1474.000000    2636.000000  2.125877e+09      NaN  \n",
       "max     54668.000000   46629.000000   42845.000000  2.456613e+09      NaN  "
      ]
     },
     "execution_count": 7,
     "metadata": {},
     "output_type": "execute_result"
    }
   ],
   "source": [
    "df.describe()"
   ]
  },
  {
   "cell_type": "markdown",
   "metadata": {},
   "source": [
    "Standard UNIX programs can also be run from Jupyter by prepending it with \"!\".\n",
    "They better be non-interactive program, not asking for input or output. For example:"
   ]
  },
  {
   "cell_type": "code",
   "execution_count": 8,
   "metadata": {},
   "outputs": [
    {
     "name": "stdout",
     "output_type": "stream",
     "text": [
      "d3-w4140b-02\n"
     ]
    }
   ],
   "source": [
    "# Where am I running?\n",
    "!hostname"
   ]
  },
  {
   "cell_type": "code",
   "execution_count": 9,
   "metadata": {},
   "outputs": [
    {
     "name": "stdout",
     "output_type": "stream",
     "text": [
      "              total        used        free      shared  buff/cache   available\n",
      "Mem:      196675028     4165740    33704500       27280   158804788   191095188\n",
      "Swap:             0           0           0\n"
     ]
    }
   ],
   "source": [
    "# How much memory is left on this compute node?\n",
    "!free"
   ]
  },
  {
   "cell_type": "code",
   "execution_count": 10,
   "metadata": {},
   "outputs": [
    {
     "name": "stdout",
     "output_type": "stream",
     "text": [
      "Tue Aug  4 17:00:30 2020       \n",
      "+-----------------------------------------------------------------------------+\n",
      "| NVIDIA-SMI 450.36.06    Driver Version: 450.36.06    CUDA Version: 11.0     |\n",
      "|-------------------------------+----------------------+----------------------+\n",
      "| GPU  Name        Persistence-M| Bus-Id        Disp.A | Volatile Uncorr. ECC |\n",
      "| Fan  Temp  Perf  Pwr:Usage/Cap|         Memory-Usage | GPU-Util  Compute M. |\n",
      "|                               |                      |               MIG M. |\n",
      "|===============================+======================+======================|\n",
      "|   0  Tesla V100-SXM2...  Off  | 00000000:1E:00.0 Off |                    0 |\n",
      "| N/A   45C    P0    46W / 300W |      0MiB / 16160MiB |      0%      Default |\n",
      "|                               |                      |                  N/A |\n",
      "+-------------------------------+----------------------+----------------------+\n",
      "                                                                               \n",
      "+-----------------------------------------------------------------------------+\n",
      "| Processes:                                                                  |\n",
      "|  GPU   GI   CI        PID   Type   Process name                  GPU Memory |\n",
      "|        ID   ID                                                   Usage      |\n",
      "|=============================================================================|\n",
      "|  No running processes found                                                 |\n",
      "+-----------------------------------------------------------------------------+\n"
     ]
    }
   ],
   "source": [
    "# On GPU node, you can check the status of the GPU using `nvidia-smi` command:\n",
    "!nvidia-smi"
   ]
  },
  {
   "cell_type": "markdown",
   "metadata": {},
   "source": [
    "Try to load another library? See if the TensorFlow container has it..."
   ]
  },
  {
   "cell_type": "code",
   "execution_count": 11,
   "metadata": {},
   "outputs": [],
   "source": [
    "import PIL"
   ]
  },
  {
   "cell_type": "code",
   "execution_count": 12,
   "metadata": {},
   "outputs": [
    {
     "data": {
      "text/plain": [
       "'7.1.2'"
      ]
     },
     "execution_count": 12,
     "metadata": {},
     "output_type": "execute_result"
    }
   ],
   "source": [
    "PIL.__version__"
   ]
  },
  {
   "cell_type": "code",
   "execution_count": 13,
   "metadata": {},
   "outputs": [
    {
     "data": {
      "text/plain": [
       "<module 'PIL' from '/opt/conda/lib/python3.7/site-packages/PIL/__init__.py'>"
      ]
     },
     "execution_count": 13,
     "metadata": {},
     "output_type": "execute_result"
    }
   ],
   "source": [
    "PIL"
   ]
  },
  {
   "cell_type": "markdown",
   "metadata": {},
   "source": [
    "## Need extra Python modules?\n",
    "\n",
    "You can add user module environment to which then you can install extra modules.\n",
    "To create the environment for the first time: follow instructions in https://wiki.hpc.odu.edu/Software/Python#install-additional-python-modules . Use `image_procs` for PROJECT_NAME, for example. Suppose you need \"cv2\" package. Here are the steps to do it (adapt to your specific need)\n",
    "\n",
    "This need to be done on Wahab's shell interface. Issue the following commands: (remember to pick the right TensorFlow container if it is not tensorflow 2.0 on CPU)\n",
    "\n",
    "~~~\n",
    "module load container_env tensorflow-cpu/2.0.0\n",
    "crun.tensorflow-cpu -c -p ~/envs/image_procs\n",
    "crun.tensorflow-cpu -p ~/envs/image_procs install opencv-python\n",
    "~~~\n"
   ]
  },
  {
   "cell_type": "code",
   "execution_count": 14,
   "metadata": {},
   "outputs": [],
   "source": [
    "import os\n",
    "import sys"
   ]
  },
  {
   "cell_type": "code",
   "execution_count": 15,
   "metadata": {},
   "outputs": [],
   "source": [
    "sys.path.append(os.environ[\"HOME\"] + \"/envs/image_procs/lib/python3.7/site-packages\")"
   ]
  },
  {
   "cell_type": "code",
   "execution_count": 16,
   "metadata": {},
   "outputs": [],
   "source": [
    "import cv2"
   ]
  },
  {
   "cell_type": "code",
   "execution_count": 17,
   "metadata": {},
   "outputs": [
    {
     "data": {
      "text/plain": [
       "'4.3.0'"
      ]
     },
     "execution_count": 17,
     "metadata": {},
     "output_type": "execute_result"
    }
   ],
   "source": [
    "cv2.__version__"
   ]
  },
  {
   "cell_type": "code",
   "execution_count": null,
   "metadata": {},
   "outputs": [],
   "source": []
  }
 ],
 "metadata": {
  "kernelspec": {
   "display_name": "Python 3",
   "language": "python",
   "name": "python3"
  },
  "language_info": {
   "codemirror_mode": {
    "name": "ipython",
    "version": 3
   },
   "file_extension": ".py",
   "mimetype": "text/x-python",
   "name": "python",
   "nbconvert_exporter": "python",
   "pygments_lexer": "ipython3",
   "version": "3.7.7"
  }
 },
 "nbformat": 4,
 "nbformat_minor": 4
}
