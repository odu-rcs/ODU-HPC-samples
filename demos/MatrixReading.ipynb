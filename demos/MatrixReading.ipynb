{
 "cells": [
  {
   "cell_type": "markdown",
   "metadata": {},
   "source": [
    "# Reading a Matrix Input\n",
    "A demo program for reading a matrix from a simple text file then printing it out"
   ]
  },
  {
   "cell_type": "code",
   "execution_count": 1,
   "metadata": {
    "collapsed": false
   },
   "outputs": [],
   "source": [
    "import numpy\n",
    "numpy.set_printoptions(linewidth=95)"
   ]
  },
  {
   "cell_type": "code",
   "execution_count": 2,
   "metadata": {
    "collapsed": true
   },
   "outputs": [],
   "source": [
    "Filename = \"matrix01.in\""
   ]
  },
  {
   "cell_type": "code",
   "execution_count": 3,
   "metadata": {
    "collapsed": false
   },
   "outputs": [
    {
     "name": "stdout",
     "output_type": "stream",
     "text": [
      "Matrix dimensions = 4 x 5\n"
     ]
    }
   ],
   "source": [
    "F = open(Filename, \"r\")\n",
    "# read one line from the file (a header)\n",
    "hdr = F.next().split()\n",
    "assert hdr[0].upper() == \"MATRIX\"\n",
    "row, col = int(hdr[1]), int(hdr[2])\n",
    "print(\"Matrix dimensions = %d x %d\" % (row, col))"
   ]
  },
  {
   "cell_type": "code",
   "execution_count": 4,
   "metadata": {
    "collapsed": false
   },
   "outputs": [],
   "source": [
    "Mat = numpy.loadtxt(F)\n",
    "F.close()"
   ]
  },
  {
   "cell_type": "code",
   "execution_count": 5,
   "metadata": {
    "collapsed": false
   },
   "outputs": [
    {
     "name": "stdout",
     "output_type": "stream",
     "text": [
      "[[  2.73400000e+01   4.51000000e+01   1.00000000e+01   0.00000000e+00  -1.41000000e+00]\n",
      " [  1.00000000e-02   2.74000000e+00   3.10000000e-01  -2.11700000e+01   8.00000000e-01]\n",
      " [  9.00000000e+00  -1.21000000e+00  -8.51000000e+00   2.10000000e-01   4.08000000e+00]\n",
      " [ -3.71000000e+01   1.54100000e+01   1.00000000e+00   2.00000000e+00   3.00000000e+00]]\n"
     ]
    }
   ],
   "source": [
    "print(Mat)"
   ]
  },
  {
   "cell_type": "code",
   "execution_count": 6,
   "metadata": {
    "collapsed": false
   },
   "outputs": [
    {
     "name": "stdout",
     "output_type": "stream",
     "text": [
      "Size of the matrix just read = (4, 5)\n"
     ]
    }
   ],
   "source": [
    "print(\"Size of the matrix just read = %s\" % (Mat.shape,))"
   ]
  }
 ],
 "metadata": {
  "anaconda-cloud": {},
  "kernelspec": {
   "display_name": "Python [default]",
   "language": "python",
   "name": "python2"
  },
  "language_info": {
   "codemirror_mode": {
    "name": "ipython",
    "version": 2
   },
   "file_extension": ".py",
   "mimetype": "text/x-python",
   "name": "python",
   "nbconvert_exporter": "python",
   "pygments_lexer": "ipython2",
   "version": "2.7.12"
  }
 },
 "nbformat": 4,
 "nbformat_minor": 1
}
